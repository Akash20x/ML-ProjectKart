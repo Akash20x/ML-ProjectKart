{
  "nbformat": 4,
  "nbformat_minor": 0,
  "metadata": {
    "colab": {
      "name": "Untitled17.ipynb",
      "provenance": []
    },
    "kernelspec": {
      "name": "python3",
      "display_name": "Python 3"
    },
    "language_info": {
      "name": "python"
    }
  },
  "cells": [
    {
      "cell_type": "code",
      "metadata": {
        "id": "8V1W09KpI8f6"
      },
      "source": [
        "import pandas as pd\n",
        "import numpy as np\n",
        "import seaborn as sns\n",
        "import matplotlib.pyplot as plt"
      ],
      "execution_count": 1,
      "outputs": []
    },
    {
      "cell_type": "code",
      "metadata": {
        "id": "cwN-WrxYLKC8"
      },
      "source": [
        "data = pd.read_csv('/content/bestsellers with categories.csv')"
      ],
      "execution_count": 2,
      "outputs": []
    },
    {
      "cell_type": "code",
      "metadata": {
        "colab": {
          "base_uri": "https://localhost:8080/"
        },
        "id": "ThQV8FiwLQ9q",
        "outputId": "ffb0b86e-2eaf-4654-d54e-39372a742129"
      },
      "source": [
        "data.info()"
      ],
      "execution_count": 3,
      "outputs": [
        {
          "output_type": "stream",
          "text": [
            "<class 'pandas.core.frame.DataFrame'>\n",
            "RangeIndex: 550 entries, 0 to 549\n",
            "Data columns (total 7 columns):\n",
            " #   Column       Non-Null Count  Dtype  \n",
            "---  ------       --------------  -----  \n",
            " 0   Name         550 non-null    object \n",
            " 1   Author       550 non-null    object \n",
            " 2   User Rating  550 non-null    float64\n",
            " 3   Reviews      550 non-null    int64  \n",
            " 4   Price        550 non-null    int64  \n",
            " 5   Year         550 non-null    int64  \n",
            " 6   Genre        550 non-null    object \n",
            "dtypes: float64(1), int64(3), object(3)\n",
            "memory usage: 30.2+ KB\n"
          ],
          "name": "stdout"
        }
      ]
    },
    {
      "cell_type": "code",
      "metadata": {
        "colab": {
          "base_uri": "https://localhost:8080/"
        },
        "id": "qwZUATXhLaJZ",
        "outputId": "c122db0c-4f9e-4d57-efe0-06f723d0de23"
      },
      "source": [
        "data.nunique()"
      ],
      "execution_count": 4,
      "outputs": [
        {
          "output_type": "execute_result",
          "data": {
            "text/plain": [
              "Name           351\n",
              "Author         248\n",
              "User Rating     14\n",
              "Reviews        346\n",
              "Price           40\n",
              "Year            11\n",
              "Genre            2\n",
              "dtype: int64"
            ]
          },
          "metadata": {
            "tags": []
          },
          "execution_count": 4
        }
      ]
    },
    {
      "cell_type": "code",
      "metadata": {
        "colab": {
          "base_uri": "https://localhost:8080/",
          "height": 202
        },
        "id": "JCoDeozQLe_D",
        "outputId": "eeaee665-f472-4281-bff5-002977a6b1d9"
      },
      "source": [
        "data.head()"
      ],
      "execution_count": 5,
      "outputs": [
        {
          "output_type": "execute_result",
          "data": {
            "text/html": [
              "<div>\n",
              "<style scoped>\n",
              "    .dataframe tbody tr th:only-of-type {\n",
              "        vertical-align: middle;\n",
              "    }\n",
              "\n",
              "    .dataframe tbody tr th {\n",
              "        vertical-align: top;\n",
              "    }\n",
              "\n",
              "    .dataframe thead th {\n",
              "        text-align: right;\n",
              "    }\n",
              "</style>\n",
              "<table border=\"1\" class=\"dataframe\">\n",
              "  <thead>\n",
              "    <tr style=\"text-align: right;\">\n",
              "      <th></th>\n",
              "      <th>Name</th>\n",
              "      <th>Author</th>\n",
              "      <th>User Rating</th>\n",
              "      <th>Reviews</th>\n",
              "      <th>Price</th>\n",
              "      <th>Year</th>\n",
              "      <th>Genre</th>\n",
              "    </tr>\n",
              "  </thead>\n",
              "  <tbody>\n",
              "    <tr>\n",
              "      <th>0</th>\n",
              "      <td>10-Day Green Smoothie Cleanse</td>\n",
              "      <td>JJ Smith</td>\n",
              "      <td>4.7</td>\n",
              "      <td>17350</td>\n",
              "      <td>8</td>\n",
              "      <td>2016</td>\n",
              "      <td>Non Fiction</td>\n",
              "    </tr>\n",
              "    <tr>\n",
              "      <th>1</th>\n",
              "      <td>11/22/63: A Novel</td>\n",
              "      <td>Stephen King</td>\n",
              "      <td>4.6</td>\n",
              "      <td>2052</td>\n",
              "      <td>22</td>\n",
              "      <td>2011</td>\n",
              "      <td>Fiction</td>\n",
              "    </tr>\n",
              "    <tr>\n",
              "      <th>2</th>\n",
              "      <td>12 Rules for Life: An Antidote to Chaos</td>\n",
              "      <td>Jordan B. Peterson</td>\n",
              "      <td>4.7</td>\n",
              "      <td>18979</td>\n",
              "      <td>15</td>\n",
              "      <td>2018</td>\n",
              "      <td>Non Fiction</td>\n",
              "    </tr>\n",
              "    <tr>\n",
              "      <th>3</th>\n",
              "      <td>1984 (Signet Classics)</td>\n",
              "      <td>George Orwell</td>\n",
              "      <td>4.7</td>\n",
              "      <td>21424</td>\n",
              "      <td>6</td>\n",
              "      <td>2017</td>\n",
              "      <td>Fiction</td>\n",
              "    </tr>\n",
              "    <tr>\n",
              "      <th>4</th>\n",
              "      <td>5,000 Awesome Facts (About Everything!) (Natio...</td>\n",
              "      <td>National Geographic Kids</td>\n",
              "      <td>4.8</td>\n",
              "      <td>7665</td>\n",
              "      <td>12</td>\n",
              "      <td>2019</td>\n",
              "      <td>Non Fiction</td>\n",
              "    </tr>\n",
              "  </tbody>\n",
              "</table>\n",
              "</div>"
            ],
            "text/plain": [
              "                                                Name  ...        Genre\n",
              "0                      10-Day Green Smoothie Cleanse  ...  Non Fiction\n",
              "1                                  11/22/63: A Novel  ...      Fiction\n",
              "2            12 Rules for Life: An Antidote to Chaos  ...  Non Fiction\n",
              "3                             1984 (Signet Classics)  ...      Fiction\n",
              "4  5,000 Awesome Facts (About Everything!) (Natio...  ...  Non Fiction\n",
              "\n",
              "[5 rows x 7 columns]"
            ]
          },
          "metadata": {
            "tags": []
          },
          "execution_count": 5
        }
      ]
    },
    {
      "cell_type": "code",
      "metadata": {
        "colab": {
          "base_uri": "https://localhost:8080/",
          "height": 385
        },
        "id": "AghGMvQyLrv7",
        "outputId": "468871e4-fc5a-463b-a8dd-36a365bf1b56"
      },
      "source": [
        "data.describe(include='all')"
      ],
      "execution_count": 6,
      "outputs": [
        {
          "output_type": "execute_result",
          "data": {
            "text/html": [
              "<div>\n",
              "<style scoped>\n",
              "    .dataframe tbody tr th:only-of-type {\n",
              "        vertical-align: middle;\n",
              "    }\n",
              "\n",
              "    .dataframe tbody tr th {\n",
              "        vertical-align: top;\n",
              "    }\n",
              "\n",
              "    .dataframe thead th {\n",
              "        text-align: right;\n",
              "    }\n",
              "</style>\n",
              "<table border=\"1\" class=\"dataframe\">\n",
              "  <thead>\n",
              "    <tr style=\"text-align: right;\">\n",
              "      <th></th>\n",
              "      <th>Name</th>\n",
              "      <th>Author</th>\n",
              "      <th>User Rating</th>\n",
              "      <th>Reviews</th>\n",
              "      <th>Price</th>\n",
              "      <th>Year</th>\n",
              "      <th>Genre</th>\n",
              "    </tr>\n",
              "  </thead>\n",
              "  <tbody>\n",
              "    <tr>\n",
              "      <th>count</th>\n",
              "      <td>550</td>\n",
              "      <td>550</td>\n",
              "      <td>550.000000</td>\n",
              "      <td>550.000000</td>\n",
              "      <td>550.000000</td>\n",
              "      <td>550.000000</td>\n",
              "      <td>550</td>\n",
              "    </tr>\n",
              "    <tr>\n",
              "      <th>unique</th>\n",
              "      <td>351</td>\n",
              "      <td>248</td>\n",
              "      <td>NaN</td>\n",
              "      <td>NaN</td>\n",
              "      <td>NaN</td>\n",
              "      <td>NaN</td>\n",
              "      <td>2</td>\n",
              "    </tr>\n",
              "    <tr>\n",
              "      <th>top</th>\n",
              "      <td>Publication Manual of the American Psychologic...</td>\n",
              "      <td>Jeff Kinney</td>\n",
              "      <td>NaN</td>\n",
              "      <td>NaN</td>\n",
              "      <td>NaN</td>\n",
              "      <td>NaN</td>\n",
              "      <td>Non Fiction</td>\n",
              "    </tr>\n",
              "    <tr>\n",
              "      <th>freq</th>\n",
              "      <td>10</td>\n",
              "      <td>12</td>\n",
              "      <td>NaN</td>\n",
              "      <td>NaN</td>\n",
              "      <td>NaN</td>\n",
              "      <td>NaN</td>\n",
              "      <td>310</td>\n",
              "    </tr>\n",
              "    <tr>\n",
              "      <th>mean</th>\n",
              "      <td>NaN</td>\n",
              "      <td>NaN</td>\n",
              "      <td>4.618364</td>\n",
              "      <td>11953.281818</td>\n",
              "      <td>13.100000</td>\n",
              "      <td>2014.000000</td>\n",
              "      <td>NaN</td>\n",
              "    </tr>\n",
              "    <tr>\n",
              "      <th>std</th>\n",
              "      <td>NaN</td>\n",
              "      <td>NaN</td>\n",
              "      <td>0.226980</td>\n",
              "      <td>11731.132017</td>\n",
              "      <td>10.842262</td>\n",
              "      <td>3.165156</td>\n",
              "      <td>NaN</td>\n",
              "    </tr>\n",
              "    <tr>\n",
              "      <th>min</th>\n",
              "      <td>NaN</td>\n",
              "      <td>NaN</td>\n",
              "      <td>3.300000</td>\n",
              "      <td>37.000000</td>\n",
              "      <td>0.000000</td>\n",
              "      <td>2009.000000</td>\n",
              "      <td>NaN</td>\n",
              "    </tr>\n",
              "    <tr>\n",
              "      <th>25%</th>\n",
              "      <td>NaN</td>\n",
              "      <td>NaN</td>\n",
              "      <td>4.500000</td>\n",
              "      <td>4058.000000</td>\n",
              "      <td>7.000000</td>\n",
              "      <td>2011.000000</td>\n",
              "      <td>NaN</td>\n",
              "    </tr>\n",
              "    <tr>\n",
              "      <th>50%</th>\n",
              "      <td>NaN</td>\n",
              "      <td>NaN</td>\n",
              "      <td>4.700000</td>\n",
              "      <td>8580.000000</td>\n",
              "      <td>11.000000</td>\n",
              "      <td>2014.000000</td>\n",
              "      <td>NaN</td>\n",
              "    </tr>\n",
              "    <tr>\n",
              "      <th>75%</th>\n",
              "      <td>NaN</td>\n",
              "      <td>NaN</td>\n",
              "      <td>4.800000</td>\n",
              "      <td>17253.250000</td>\n",
              "      <td>16.000000</td>\n",
              "      <td>2017.000000</td>\n",
              "      <td>NaN</td>\n",
              "    </tr>\n",
              "    <tr>\n",
              "      <th>max</th>\n",
              "      <td>NaN</td>\n",
              "      <td>NaN</td>\n",
              "      <td>4.900000</td>\n",
              "      <td>87841.000000</td>\n",
              "      <td>105.000000</td>\n",
              "      <td>2019.000000</td>\n",
              "      <td>NaN</td>\n",
              "    </tr>\n",
              "  </tbody>\n",
              "</table>\n",
              "</div>"
            ],
            "text/plain": [
              "                                                     Name  ...        Genre\n",
              "count                                                 550  ...          550\n",
              "unique                                                351  ...            2\n",
              "top     Publication Manual of the American Psychologic...  ...  Non Fiction\n",
              "freq                                                   10  ...          310\n",
              "mean                                                  NaN  ...          NaN\n",
              "std                                                   NaN  ...          NaN\n",
              "min                                                   NaN  ...          NaN\n",
              "25%                                                   NaN  ...          NaN\n",
              "50%                                                   NaN  ...          NaN\n",
              "75%                                                   NaN  ...          NaN\n",
              "max                                                   NaN  ...          NaN\n",
              "\n",
              "[11 rows x 7 columns]"
            ]
          },
          "metadata": {
            "tags": []
          },
          "execution_count": 6
        }
      ]
    },
    {
      "cell_type": "code",
      "metadata": {
        "colab": {
          "base_uri": "https://localhost:8080/",
          "height": 335
        },
        "id": "t8h8xwDpMbe6",
        "outputId": "95fce1a8-f390-4428-d754-623708ba39e3"
      },
      "source": [
        "#checking missing values\n",
        "sns.heatmap(data=data.isnull())"
      ],
      "execution_count": 7,
      "outputs": [
        {
          "output_type": "execute_result",
          "data": {
            "text/plain": [
              "<matplotlib.axes._subplots.AxesSubplot at 0x7f2784933090>"
            ]
          },
          "metadata": {
            "tags": []
          },
          "execution_count": 7
        },
        {
          "output_type": "display_data",
          "data": {
            "image/png": "[encoded data removed]",
            "text/plain": [
              "<Figure size 432x288 with 2 Axes>"
            ]
          },
          "metadata": {
            "tags": [],
            "needs_background": "light"
          }
        }
      ]
    },
    {
      "cell_type": "code",
      "metadata": {
        "colab": {
          "base_uri": "https://localhost:8080/",
          "height": 444
        },
        "id": "lx8DGg3WMg96",
        "outputId": "59432468-6169-43ad-c4fe-60dfb8c75738"
      },
      "source": [
        "data.hist(figsize=(10,7))\n",
        "plt.show()"
      ],
      "execution_count": 9,
      "outputs": [
        {
          "output_type": "display_data",
          "data": {
            "image/png": "[encoded data removed]",
            "text/plain": [
              "<Figure size 720x504 with 4 Axes>"
            ]
          },
          "metadata": {
            "tags": [],
            "needs_background": "light"
          }
        }
      ]
    },
    {
      "cell_type": "code",
      "metadata": {
        "id": "mOLkk-s9NR4D"
      },
      "source": [
        "from sklearn.preprocessing import LabelEncoder \n",
        "\n",
        "le = LabelEncoder() \n",
        "data['Genre']= le.fit_transform(data['Genre']) "
      ],
      "execution_count": 10,
      "outputs": []
    },
    {
      "cell_type": "code",
      "metadata": {
        "colab": {
          "base_uri": "https://localhost:8080/",
          "height": 202
        },
        "id": "TNp3TxmcN0N1",
        "outputId": "ad2d94aa-8bca-431a-f047-5e392d6b5e01"
      },
      "source": [
        "data.head()"
      ],
      "execution_count": 11,
      "outputs": [
        {
          "output_type": "execute_result",
          "data": {
            "text/html": [
              "<div>\n",
              "<style scoped>\n",
              "    .dataframe tbody tr th:only-of-type {\n",
              "        vertical-align: middle;\n",
              "    }\n",
              "\n",
              "    .dataframe tbody tr th {\n",
              "        vertical-align: top;\n",
              "    }\n",
              "\n",
              "    .dataframe thead th {\n",
              "        text-align: right;\n",
              "    }\n",
              "</style>\n",
              "<table border=\"1\" class=\"dataframe\">\n",
              "  <thead>\n",
              "    <tr style=\"text-align: right;\">\n",
              "      <th></th>\n",
              "      <th>Name</th>\n",
              "      <th>Author</th>\n",
              "      <th>User Rating</th>\n",
              "      <th>Reviews</th>\n",
              "      <th>Price</th>\n",
              "      <th>Year</th>\n",
              "      <th>Genre</th>\n",
              "    </tr>\n",
              "  </thead>\n",
              "  <tbody>\n",
              "    <tr>\n",
              "      <th>0</th>\n",
              "      <td>10-Day Green Smoothie Cleanse</td>\n",
              "      <td>JJ Smith</td>\n",
              "      <td>4.7</td>\n",
              "      <td>17350</td>\n",
              "      <td>8</td>\n",
              "      <td>2016</td>\n",
              "      <td>1</td>\n",
              "    </tr>\n",
              "    <tr>\n",
              "      <th>1</th>\n",
              "      <td>11/22/63: A Novel</td>\n",
              "      <td>Stephen King</td>\n",
              "      <td>4.6</td>\n",
              "      <td>2052</td>\n",
              "      <td>22</td>\n",
              "      <td>2011</td>\n",
              "      <td>0</td>\n",
              "    </tr>\n",
              "    <tr>\n",
              "      <th>2</th>\n",
              "      <td>12 Rules for Life: An Antidote to Chaos</td>\n",
              "      <td>Jordan B. Peterson</td>\n",
              "      <td>4.7</td>\n",
              "      <td>18979</td>\n",
              "      <td>15</td>\n",
              "      <td>2018</td>\n",
              "      <td>1</td>\n",
              "    </tr>\n",
              "    <tr>\n",
              "      <th>3</th>\n",
              "      <td>1984 (Signet Classics)</td>\n",
              "      <td>George Orwell</td>\n",
              "      <td>4.7</td>\n",
              "      <td>21424</td>\n",
              "      <td>6</td>\n",
              "      <td>2017</td>\n",
              "      <td>0</td>\n",
              "    </tr>\n",
              "    <tr>\n",
              "      <th>4</th>\n",
              "      <td>5,000 Awesome Facts (About Everything!) (Natio...</td>\n",
              "      <td>National Geographic Kids</td>\n",
              "      <td>4.8</td>\n",
              "      <td>7665</td>\n",
              "      <td>12</td>\n",
              "      <td>2019</td>\n",
              "      <td>1</td>\n",
              "    </tr>\n",
              "  </tbody>\n",
              "</table>\n",
              "</div>"
            ],
            "text/plain": [
              "                                                Name  ... Genre\n",
              "0                      10-Day Green Smoothie Cleanse  ...     1\n",
              "1                                  11/22/63: A Novel  ...     0\n",
              "2            12 Rules for Life: An Antidote to Chaos  ...     1\n",
              "3                             1984 (Signet Classics)  ...     0\n",
              "4  5,000 Awesome Facts (About Everything!) (Natio...  ...     1\n",
              "\n",
              "[5 rows x 7 columns]"
            ]
          },
          "metadata": {
            "tags": []
          },
          "execution_count": 11
        }
      ]
    },
    {
      "cell_type": "code",
      "metadata": {
        "id": "weiNcAu_N76a"
      },
      "source": [
        "X= data.drop(['Name','Author','Genre'], axis=1)\n",
        "y=  data['Genre']"
      ],
      "execution_count": 13,
      "outputs": []
    },
    {
      "cell_type": "code",
      "metadata": {
        "colab": {
          "base_uri": "https://localhost:8080/",
          "height": 414
        },
        "id": "TQyzwU1JOLGi",
        "outputId": "a7980265-821a-4088-9684-60183e2f71e3"
      },
      "source": [
        "X"
      ],
      "execution_count": 14,
      "outputs": [
        {
          "output_type": "execute_result",
          "data": {
            "text/html": [
              "<div>\n",
              "<style scoped>\n",
              "    .dataframe tbody tr th:only-of-type {\n",
              "        vertical-align: middle;\n",
              "    }\n",
              "\n",
              "    .dataframe tbody tr th {\n",
              "        vertical-align: top;\n",
              "    }\n",
              "\n",
              "    .dataframe thead th {\n",
              "        text-align: right;\n",
              "    }\n",
              "</style>\n",
              "<table border=\"1\" class=\"dataframe\">\n",
              "  <thead>\n",
              "    <tr style=\"text-align: right;\">\n",
              "      <th></th>\n",
              "      <th>User Rating</th>\n",
              "      <th>Reviews</th>\n",
              "      <th>Price</th>\n",
              "      <th>Year</th>\n",
              "    </tr>\n",
              "  </thead>\n",
              "  <tbody>\n",
              "    <tr>\n",
              "      <th>0</th>\n",
              "      <td>4.7</td>\n",
              "      <td>17350</td>\n",
              "      <td>8</td>\n",
              "      <td>2016</td>\n",
              "    </tr>\n",
              "    <tr>\n",
              "      <th>1</th>\n",
              "      <td>4.6</td>\n",
              "      <td>2052</td>\n",
              "      <td>22</td>\n",
              "      <td>2011</td>\n",
              "    </tr>\n",
              "    <tr>\n",
              "      <th>2</th>\n",
              "      <td>4.7</td>\n",
              "      <td>18979</td>\n",
              "      <td>15</td>\n",
              "      <td>2018</td>\n",
              "    </tr>\n",
              "    <tr>\n",
              "      <th>3</th>\n",
              "      <td>4.7</td>\n",
              "      <td>21424</td>\n",
              "      <td>6</td>\n",
              "      <td>2017</td>\n",
              "    </tr>\n",
              "    <tr>\n",
              "      <th>4</th>\n",
              "      <td>4.8</td>\n",
              "      <td>7665</td>\n",
              "      <td>12</td>\n",
              "      <td>2019</td>\n",
              "    </tr>\n",
              "    <tr>\n",
              "      <th>...</th>\n",
              "      <td>...</td>\n",
              "      <td>...</td>\n",
              "      <td>...</td>\n",
              "      <td>...</td>\n",
              "    </tr>\n",
              "    <tr>\n",
              "      <th>545</th>\n",
              "      <td>4.9</td>\n",
              "      <td>9413</td>\n",
              "      <td>8</td>\n",
              "      <td>2019</td>\n",
              "    </tr>\n",
              "    <tr>\n",
              "      <th>546</th>\n",
              "      <td>4.7</td>\n",
              "      <td>14331</td>\n",
              "      <td>8</td>\n",
              "      <td>2016</td>\n",
              "    </tr>\n",
              "    <tr>\n",
              "      <th>547</th>\n",
              "      <td>4.7</td>\n",
              "      <td>14331</td>\n",
              "      <td>8</td>\n",
              "      <td>2017</td>\n",
              "    </tr>\n",
              "    <tr>\n",
              "      <th>548</th>\n",
              "      <td>4.7</td>\n",
              "      <td>14331</td>\n",
              "      <td>8</td>\n",
              "      <td>2018</td>\n",
              "    </tr>\n",
              "    <tr>\n",
              "      <th>549</th>\n",
              "      <td>4.7</td>\n",
              "      <td>14331</td>\n",
              "      <td>8</td>\n",
              "      <td>2019</td>\n",
              "    </tr>\n",
              "  </tbody>\n",
              "</table>\n",
              "<p>550 rows × 4 columns</p>\n",
              "</div>"
            ],
            "text/plain": [
              "     User Rating  Reviews  Price  Year\n",
              "0            4.7    17350      8  2016\n",
              "1            4.6     2052     22  2011\n",
              "2            4.7    18979     15  2018\n",
              "3            4.7    21424      6  2017\n",
              "4            4.8     7665     12  2019\n",
              "..           ...      ...    ...   ...\n",
              "545          4.9     9413      8  2019\n",
              "546          4.7    14331      8  2016\n",
              "547          4.7    14331      8  2017\n",
              "548          4.7    14331      8  2018\n",
              "549          4.7    14331      8  2019\n",
              "\n",
              "[550 rows x 4 columns]"
            ]
          },
          "metadata": {
            "tags": []
          },
          "execution_count": 14
        }
      ]
    },
    {
      "cell_type": "code",
      "metadata": {
        "id": "F4311vcyOP0K"
      },
      "source": [
        "from sklearn.model_selection import train_test_split\n",
        "\n",
        "X_train, X_test, y_train, y_test = train_test_split(X, y, test_size=0.2, random_state=3)"
      ],
      "execution_count": 15,
      "outputs": []
    },
    {
      "cell_type": "code",
      "metadata": {
        "colab": {
          "base_uri": "https://localhost:8080/"
        },
        "id": "WQuYjWSmOdN0",
        "outputId": "e65db8b7-776b-4885-f74f-f79ca6c231a0"
      },
      "source": [
        "from sklearn.model_selection import GridSearchCV\n",
        "from sklearn.linear_model import LinearRegression, LogisticRegression\n",
        "from sklearn.neighbors import KNeighborsClassifier\n",
        "from sklearn.tree import DecisionTreeClassifier\n",
        "from sklearn.ensemble import RandomForestClassifier\n",
        "from sklearn.naive_bayes import GaussianNB\n",
        "from sklearn.svm import SVC\n",
        "from sklearn.linear_model import SGDRegressor,SGDClassifier\n",
        "from sklearn.neighbors import KNeighborsRegressor\n",
        "from sklearn.tree import DecisionTreeRegressor\n",
        "from sklearn.ensemble import RandomForestRegressor\n",
        "from sklearn.svm import SVR\n",
        "from xgboost import XGBRegressor,XGBClassifier\n",
        "from sklearn.metrics import classification_report, confusion_matrix, mean_absolute_error, roc_curve, roc_auc_score, r2_score, mean_squared_error\n",
        "from sklearn import metrics\n",
        "from sklearn.discriminant_analysis  import LinearDiscriminantAnalysis\n",
        "\n",
        "models = {\n",
        "    \"Linear Regression\": LinearRegression(fit_intercept=True),\n",
        "    \"KNN\": KNeighborsClassifier(),\n",
        "    \"SVC\" :SVC(),\n",
        "    \"XGbr\":XGBClassifier(),\n",
        "    \"SGD\": SGDClassifier(),\n",
        "    \"Decisiontree\": DecisionTreeClassifier(),\n",
        "    \"RandomF\": RandomForestClassifier(),\n",
        "    \"LogisticRegression\": LogisticRegression()\n",
        "}\n",
        "\n",
        "for model in models.items():\n",
        "    m = model[1]\n",
        "    m.fit(X_train, y_train)\n",
        "    print(model[0])\n",
        "    print(\"Score: \", m.score(X_test,y_test))\n",
        "    print(\"\")"
      ],
      "execution_count": 20,
      "outputs": [
        {
          "output_type": "stream",
          "text": [
            "Linear Regression\n",
            "Score:  0.04689495748663619\n",
            "\n",
            "KNN\n",
            "Score:  0.7272727272727273\n",
            "\n",
            "SVC\n",
            "Score:  0.6363636363636364\n",
            "\n",
            "XGbr\n",
            "Score:  0.7818181818181819\n",
            "\n",
            "SGD\n",
            "Score:  0.6272727272727273\n",
            "\n",
            "Decisiontree\n",
            "Score:  0.7181818181818181\n",
            "\n",
            "RandomF\n",
            "Score:  0.7818181818181819\n",
            "\n",
            "LogisticRegression\n",
            "Score:  0.6\n",
            "\n"
          ],
          "name": "stdout"
        }
      ]
    },
    {
      "cell_type": "markdown",
      "metadata": {
        "id": "l28soQMTPueE"
      },
      "source": [
        "We Can see Randm Forest and XGbr has same accuracy and highest accuracy."
      ]
    }
  ]
}